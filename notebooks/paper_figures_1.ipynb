{
 "cells": [
  {
   "cell_type": "code",
   "execution_count": 1,
   "metadata": {},
   "outputs": [
    {
     "name": "stderr",
     "output_type": "stream",
     "text": [
      "/ext3/miniconda3/lib/python3.9/site-packages/tqdm/auto.py:22: TqdmWarning: IProgress not found. Please update jupyter and ipywidgets. See https://ipywidgets.readthedocs.io/en/stable/user_install.html\n",
      "  from .autonotebook import tqdm as notebook_tqdm\n",
      "/home/pp2681/pyqg_experiments/pyqg_subgrid_experiments/__init__.py:19: UserWarning: Unable to load differentiable_parameterizations, install autograd if you want to use these\n",
      "  warnings.warn(\"Unable to load differentiable_parameterizations, install autograd if you want to use these\")\n"
     ]
    }
   ],
   "source": [
    "import xarray as xr\n",
    "import numpy as np\n",
    "import matplotlib.pyplot as plt\n",
    "import pyqg\n",
    "from time import time\n",
    "import os\n",
    "import glob\n",
    "from pyqg_generative.tools.plot_helpers import *\n",
    "from pyqg_generative.tools.comparison_tools import dataset_smart_read\n",
    "import json\n",
    "import cmocean\n",
    "%load_ext autoreload\n",
    "%autoreload 3"
   ]
  },
  {
   "cell_type": "markdown",
   "metadata": {},
   "source": [
    "# First impression of the configuration"
   ]
  },
  {
   "cell_type": "code",
   "execution_count": 3,
   "metadata": {},
   "outputs": [
    {
     "name": "stdout",
     "output_type": "stream",
     "text": [
      "/scratch/pp2681/pyqg_generative/Reference-Default-scaled/eddy/reference_48/[0-9].nc\n",
      "/scratch/pp2681/pyqg_generative/Reference-Default-scaled/eddy/reference_64/[0-9].nc\n",
      "/scratch/pp2681/pyqg_generative/Reference-Default-scaled/eddy/reference_96/[0-9].nc\n",
      "/scratch/pp2681/pyqg_generative/Reference-Default-scaled/eddy/reference_256/[0-9].nc\n"
     ]
    }
   ],
   "source": [
    "ds = {}\n",
    "for res in ['48', '64', '96', '256']:\n",
    "    ds[res] = dataset_smart_read(f'/scratch/pp2681/pyqg_generative/Reference-Default-scaled/eddy/reference_{res}/[0-9].nc', delta=0.25)    "
   ]
  }
 ],
 "metadata": {
  "kernelspec": {
   "display_name": "env_07_04",
   "language": "python",
   "name": "my_env"
  },
  "language_info": {
   "codemirror_mode": {
    "name": "ipython",
    "version": 3
   },
   "file_extension": ".py",
   "mimetype": "text/x-python",
   "name": "python",
   "nbconvert_exporter": "python",
   "pygments_lexer": "ipython3",
   "version": "3.9.12"
  },
  "vscode": {
   "interpreter": {
    "hash": "05edf54c81e9d60fa9ffc2d19df58f5b8263a9e832bf2883d1c18873ede7ce7a"
   }
  }
 },
 "nbformat": 4,
 "nbformat_minor": 4
}
