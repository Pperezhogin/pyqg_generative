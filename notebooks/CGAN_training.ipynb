{
 "cells": [
  {
   "cell_type": "code",
   "execution_count": 61,
   "metadata": {},
   "outputs": [
    {
     "name": "stdout",
     "output_type": "stream",
     "text": [
      "The autoreload extension is already loaded. To reload it, use:\n",
      "  %reload_ext autoreload\n"
     ]
    }
   ],
   "source": [
    "import sys; sys.path.insert(0, '../')\n",
    "\n",
    "import matplotlib.pyplot as plt\n",
    "import torch\n",
    "import json\n",
    "import numpy as np\n",
    "import torch\n",
    "import pyqg_subgrid_experiments as pse\n",
    "from models.cgan_model import CGANModel\n",
    "from models.mean_var_model import MeanVarModel\n",
    "from tools.plot_helpers import *\n",
    "from tools.computational_tools import *\n",
    "from tools.cnn_tools import *\n",
    "%load_ext autoreload\n",
    "%autoreload 2"
   ]
  },
  {
   "cell_type": "code",
   "execution_count": 62,
   "metadata": {},
   "outputs": [],
   "source": [
    "ds_train = pse.Dataset('/scratch/pp2681/pyqg_NN/mean_var/train.nc')"
   ]
  },
  {
   "cell_type": "code",
   "execution_count": 63,
   "metadata": {},
   "outputs": [],
   "source": [
    "ds_test = pse.Dataset('/scratch/pp2681/pyqg_NN/mean_var/test.nc')"
   ]
  },
  {
   "cell_type": "markdown",
   "metadata": {},
   "source": [
    "# Estimation of confidence interval for spectral error"
   ]
  },
  {
   "cell_type": "code",
   "execution_count": 64,
   "metadata": {},
   "outputs": [],
   "source": [
    "model = torch.load('/scratch/pp2681/pyqg_NN/CGAN_residual_track_Jun07/EXP1/net_state', map_location='cpu')"
   ]
  },
  {
   "cell_type": "code",
   "execution_count": 79,
   "metadata": {},
   "outputs": [],
   "source": [
    "x_scale = model.x_scale\n",
    "y_scale = model.y_scale\n",
    "inputs = model.inputs\n",
    "targets = model.targets"
   ]
  },
  {
   "cell_type": "code",
   "execution_count": 66,
   "metadata": {},
   "outputs": [],
   "source": [
    " # Code from cgan_model.py\n",
    "def fft_covariance(_y):\n",
    "    '''\n",
    "    Computes joint target-target spectral covariance density\n",
    "    '''\n",
    "    # Concatenate input-target matrix\n",
    "    Afft = torch.fft.rfftn(_y, dim=(2,3))\n",
    "    n = Afft.shape[1]\n",
    "    C = torch.ones(n,n,*Afft.shape[-2:], device=_y.device)\n",
    "    C = float('nan') * C\n",
    "    alpha = 1. / (_y.shape[-2]*_y.shape[-1])\n",
    "    for i in range(n):\n",
    "        for j in range(i,n):\n",
    "            C[i,j,:,:] = torch.mean(alpha*torch.real(Afft[:,i] * torch.conj(Afft[:,j])), dim=0)\n",
    "    return C"
   ]
  },
  {
   "cell_type": "code",
   "execution_count": 67,
   "metadata": {},
   "outputs": [],
   "source": [
    "def compute_spectral_distribution(ds, targets, run=slice(0,25)):\n",
    "    y = dataset_to_array(ds.isel(run=run), targets)\n",
    "    y = torch.tensor(y_scale.normalize(y))\n",
    "    return fft_covariance(y).numpy()"
   ]
  },
  {
   "cell_type": "code",
   "execution_count": 68,
   "metadata": {},
   "outputs": [],
   "source": [
    "def distance_C(C_fake, C_target):\n",
    "    num = np.mean((C_target-C_fake)**2, axis=(2,3))\n",
    "    den = np.mean(C_target**2, axis=(2,3))\n",
    "    return np.nanmean((num / den)**0.5)"
   ]
  },
  {
   "cell_type": "code",
   "execution_count": 69,
   "metadata": {},
   "outputs": [],
   "source": [
    "def mean_std_distance_C(C):\n",
    "    d = []\n",
    "    for i in range(len(C)):\n",
    "        for j in range(i+1,len(C)):\n",
    "            d.append(distance_C(C[i], C[j]))\n",
    "    d = np.array(d)\n",
    "    print('Mean value: %.4f' % (d.mean()))\n",
    "    print('1-sigma fold: [%.4f,%.4f]' % (d.mean()-d.std(),d.mean()+d.std()))\n",
    "    print('5-95 CI: [%.4f,%.4f]' % (np.percentile(d,5), np.percentile(d,95)))\n",
    "    return"
   ]
  },
  {
   "cell_type": "markdown",
   "metadata": {},
   "source": [
    "# Data limit: spectral error L2_q"
   ]
  },
  {
   "cell_type": "code",
   "execution_count": 70,
   "metadata": {},
   "outputs": [
    {
     "name": "stdout",
     "output_type": "stream",
     "text": [
      "slice(0, 25, None)\n",
      "slice(25, 50, None)\n",
      "slice(50, 75, None)\n",
      "slice(75, 100, None)\n",
      "slice(100, 125, None)\n",
      "slice(125, 150, None)\n",
      "slice(150, 175, None)\n",
      "slice(175, 200, None)\n",
      "slice(200, 225, None)\n",
      "slice(225, 250, None)\n"
     ]
    }
   ],
   "source": [
    "C = []\n",
    "chunk=25\n",
    "for run in [slice(0+chunk*j,chunk*(j+1)) for j in range(250//chunk)]:\n",
    "    print(run)\n",
    "    C.append(compute_spectral_distribution(ds_train, targets, run=run))"
   ]
  },
  {
   "cell_type": "code",
   "execution_count": 71,
   "metadata": {},
   "outputs": [
    {
     "name": "stdout",
     "output_type": "stream",
     "text": [
      "Mean value: 0.0818\n",
      "1-sigma fold: [0.0781,0.0855]\n",
      "5-95 CI: [0.0773,0.0899]\n"
     ]
    }
   ],
   "source": [
    "mean_std_distance_C(C)"
   ]
  },
  {
   "cell_type": "markdown",
   "metadata": {},
   "source": [
    "# Data limit: spectral error L2_dq"
   ]
  },
  {
   "cell_type": "code",
   "execution_count": 72,
   "metadata": {},
   "outputs": [
    {
     "name": "stdout",
     "output_type": "stream",
     "text": [
      "slice(0, 25, None)\n",
      "slice(25, 50, None)\n",
      "slice(50, 75, None)\n",
      "slice(75, 100, None)\n",
      "slice(100, 125, None)\n",
      "slice(125, 150, None)\n",
      "slice(150, 175, None)\n",
      "slice(175, 200, None)\n",
      "slice(200, 225, None)\n",
      "slice(225, 250, None)\n"
     ]
    }
   ],
   "source": [
    "C = []\n",
    "chunk=25\n",
    "targets_res = [('q_forcing_advection_res', 0), ('q_forcing_advection_res', 1)]\n",
    "for run in [slice(0+chunk*j,chunk*(j+1)) for j in range(250//chunk)]:\n",
    "    print(run)\n",
    "    C.append(compute_spectral_distribution(ds_train, targets_res, run=run))"
   ]
  },
  {
   "cell_type": "code",
   "execution_count": 73,
   "metadata": {},
   "outputs": [
    {
     "name": "stdout",
     "output_type": "stream",
     "text": [
      "Mean value: 0.1048\n",
      "1-sigma fold: [0.0957,0.1140]\n",
      "5-95 CI: [0.0899,0.1224]\n"
     ]
    }
   ],
   "source": [
    "mean_std_distance_C(C)"
   ]
  },
  {
   "cell_type": "markdown",
   "metadata": {},
   "source": [
    "# Regression: L2_q"
   ]
  },
  {
   "cell_type": "code",
   "execution_count": 74,
   "metadata": {},
   "outputs": [
    {
     "name": "stdout",
     "output_type": "stream",
     "text": [
      "slice(0, 25, None)\n",
      "slice(25, 50, None)\n",
      "slice(50, 75, None)\n",
      "slice(75, 100, None)\n",
      "slice(100, 125, None)\n",
      "slice(125, 150, None)\n",
      "slice(150, 175, None)\n",
      "slice(175, 200, None)\n",
      "slice(200, 225, None)\n",
      "slice(225, 250, None)\n"
     ]
    }
   ],
   "source": [
    "C_fake = []\n",
    "C_target = []\n",
    "regressor = [('q_forcing_advection_mean', 0), ('q_forcing_advection_mean', 1)]\n",
    "chunk=25\n",
    "for run in [slice(0+chunk*j,chunk*(j+1)) for j in range(250//chunk)]:\n",
    "    C_target.append(compute_spectral_distribution(ds_train, targets, run=run))\n",
    "    C_fake.append(compute_spectral_distribution(ds_train, regressor, run=run))\n",
    "    print(run)"
   ]
  },
  {
   "cell_type": "code",
   "execution_count": 75,
   "metadata": {},
   "outputs": [
    {
     "name": "stdout",
     "output_type": "stream",
     "text": [
      "------------ metric on the same x -----------\n",
      "Mean value: 0.2121\n",
      "1-sigma fold: [0.2101,0.2142]\n",
      "5-95 CI: [0.2091,0.2147]\n"
     ]
    }
   ],
   "source": [
    "d=[]\n",
    "for j in range(len(C_fake)):\n",
    "    d.append(distance_C(C_fake[j], C_target[j]))\n",
    "d = np.array(d)\n",
    "print('------------ metric on the same x -----------')\n",
    "print('Mean value: %.4f' % (d.mean()))\n",
    "print('1-sigma fold: [%.4f,%.4f]' % (d.mean()-d.std(),d.mean()+d.std()))\n",
    "print('5-95 CI: [%.4f,%.4f]' % (np.percentile(d,5), np.percentile(d,95)))"
   ]
  },
  {
   "cell_type": "markdown",
   "metadata": {},
   "source": [
    "# GZ2021: L2_q"
   ]
  },
  {
   "cell_type": "code",
   "execution_count": 81,
   "metadata": {},
   "outputs": [],
   "source": [
    "std = ds_train.q_forcing_advection_std\n",
    "ds_train['q_forcing_advection_res_gen'] = std * np.random.randn(*std.shape)\n",
    "ds_train['q_forcing_advection_gen'] = ds_train['q_forcing_advection_mean']+ds_train['q_forcing_advection_res_gen']\n",
    "GZ_targets = [('q_forcing_advection_gen', 0), ('q_forcing_advection_gen', 1)]\n",
    "GZ_res = [('q_forcing_advection_res_gen', 0), ('q_forcing_advection_res_gen', 1)]"
   ]
  },
  {
   "cell_type": "code",
   "execution_count": 82,
   "metadata": {},
   "outputs": [
    {
     "name": "stdout",
     "output_type": "stream",
     "text": [
      "slice(0, 25, None)\n",
      "slice(25, 50, None)\n",
      "slice(50, 75, None)\n",
      "slice(75, 100, None)\n",
      "slice(100, 125, None)\n",
      "slice(125, 150, None)\n",
      "slice(150, 175, None)\n",
      "slice(175, 200, None)\n",
      "slice(200, 225, None)\n",
      "slice(225, 250, None)\n"
     ]
    }
   ],
   "source": [
    "C_fake = []\n",
    "C_target = []\n",
    "chunk=25\n",
    "for run in [slice(0+chunk*j,chunk*(j+1)) for j in range(250//chunk)]:\n",
    "    C_target.append(compute_spectral_distribution(ds_train, targets, run=run))\n",
    "    C_fake.append(compute_spectral_distribution(ds_train, GZ_targets, run=run))\n",
    "    print(run)"
   ]
  },
  {
   "cell_type": "code",
   "execution_count": 83,
   "metadata": {},
   "outputs": [
    {
     "name": "stdout",
     "output_type": "stream",
     "text": [
      "------------ metric on the same x -----------\n",
      "Mean value: 0.2077\n",
      "1-sigma fold: [0.2057,0.2098]\n",
      "5-95 CI: [0.2046,0.2101]\n"
     ]
    }
   ],
   "source": [
    "d=[]\n",
    "for j in range(len(C_fake)):\n",
    "    d.append(distance_C(C_fake[j], C_target[j]))\n",
    "d = np.array(d)\n",
    "print('------------ metric on the same x -----------')\n",
    "print('Mean value: %.4f' % (d.mean()))\n",
    "print('1-sigma fold: [%.4f,%.4f]' % (d.mean()-d.std(),d.mean()+d.std()))\n",
    "print('5-95 CI: [%.4f,%.4f]' % (np.percentile(d,5), np.percentile(d,95)))"
   ]
  },
  {
   "cell_type": "markdown",
   "metadata": {},
   "source": [
    "# GZ2021: L2_dq"
   ]
  },
  {
   "cell_type": "code",
   "execution_count": 84,
   "metadata": {},
   "outputs": [
    {
     "name": "stdout",
     "output_type": "stream",
     "text": [
      "slice(0, 25, None)\n",
      "slice(25, 50, None)\n",
      "slice(50, 75, None)\n",
      "slice(75, 100, None)\n",
      "slice(100, 125, None)\n",
      "slice(125, 150, None)\n",
      "slice(150, 175, None)\n",
      "slice(175, 200, None)\n",
      "slice(200, 225, None)\n",
      "slice(225, 250, None)\n"
     ]
    }
   ],
   "source": [
    "C_fake = []\n",
    "C_target = []\n",
    "chunk=25\n",
    "for run in [slice(0+chunk*j,chunk*(j+1)) for j in range(250//chunk)]:\n",
    "    C_target.append(compute_spectral_distribution(ds_train, targets_res, run=run))\n",
    "    C_fake.append(compute_spectral_distribution(ds_train, GZ_res, run=run))\n",
    "    print(run)"
   ]
  },
  {
   "cell_type": "code",
   "execution_count": 85,
   "metadata": {},
   "outputs": [
    {
     "name": "stdout",
     "output_type": "stream",
     "text": [
      "------------ metric on the same x -----------\n",
      "Mean value: 0.9248\n",
      "1-sigma fold: [0.9241,0.9256]\n",
      "5-95 CI: [0.9236,0.9257]\n"
     ]
    }
   ],
   "source": [
    "d=[]\n",
    "for j in range(len(C_fake)):\n",
    "    d.append(distance_C(C_fake[j], C_target[j]))\n",
    "d = np.array(d)\n",
    "print('------------ metric on the same x -----------')\n",
    "print('Mean value: %.4f' % (d.mean()))\n",
    "print('1-sigma fold: [%.4f,%.4f]' % (d.mean()-d.std(),d.mean()+d.std()))\n",
    "print('5-95 CI: [%.4f,%.4f]' % (np.percentile(d,5), np.percentile(d,95)))"
   ]
  },
  {
   "cell_type": "markdown",
   "metadata": {},
   "source": [
    "# Summary"
   ]
  },
  {
   "cell_type": "markdown",
   "metadata": {},
   "source": [
    "- Regression model: L2=0.27, L2_q=0.2121, L2_dq=1\n",
    "- GZ2021: L2=0.27, L2_q=0.2077, L2_dq=0.9248\n",
    "- Data limit: L2=0, L2_q=0.08, L2_dq=0.1"
   ]
  }
 ],
 "metadata": {
  "kernelspec": {
   "display_name": "my_env",
   "language": "python",
   "name": "my_env"
  },
  "language_info": {
   "codemirror_mode": {
    "name": "ipython",
    "version": 3
   },
   "file_extension": ".py",
   "mimetype": "text/x-python",
   "name": "python",
   "nbconvert_exporter": "python",
   "pygments_lexer": "ipython3",
   "version": "3.9.5"
  }
 },
 "nbformat": 4,
 "nbformat_minor": 4
}
