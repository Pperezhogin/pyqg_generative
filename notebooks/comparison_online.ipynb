{
 "cells": [
  {
   "cell_type": "code",
   "execution_count": 68,
   "metadata": {},
   "outputs": [
    {
     "name": "stdout",
     "output_type": "stream",
     "text": [
      "The autoreload extension is already loaded. To reload it, use:\n",
      "  %reload_ext autoreload\n"
     ]
    }
   ],
   "source": [
    "import xarray as xr\n",
    "import numpy as np\n",
    "import matplotlib.pyplot as plt\n",
    "import pyqg\n",
    "from time import time\n",
    "import os\n",
    "import glob\n",
    "from pyqg_generative.models.ols_model import OLSModel\n",
    "from pyqg_generative.models.mean_var_model import MeanVarModel\n",
    "from pyqg_generative.models.cgan_regression import CGANRegression\n",
    "from pyqg_generative.tools.stochastic_pyqg import stochastic_QGModel\n",
    "from pyqg_generative.tools.spectral_tools import spectrum\n",
    "from pyqg_generative.tools.comparison_tools import folder_iterator, coarsegrain_reference_dataset\n",
    "import pyqg_parameterization_benchmarks as ppb\n",
    "%load_ext autoreload\n",
    "%autoreload 3"
   ]
  },
  {
   "cell_type": "code",
   "execution_count": 38,
   "metadata": {},
   "outputs": [
    {
     "name": "stdout",
     "output_type": "stream",
     "text": [
      "Blow up experiment: /scratch/pp2681/pyqg_generative/Reference-Default-scaled/models/Operator1-48/MeanVarModel/eddy-AR1-24\n",
      "2\n",
      "Blow up experiment: /scratch/pp2681/pyqg_generative/Reference-Default-scaled/models/Operator1-48/MeanVarModel/eddy-AR1-36\n",
      "0\n",
      "Blow up experiment: /scratch/pp2681/pyqg_generative/Reference-Default-scaled/models/Operator1-48/MeanVarModel/eddy-AR1-48\n",
      "0\n",
      "Blow up experiment: /scratch/pp2681/pyqg_generative/Reference-Default-scaled/models/Operator1-48/MeanVarModel/eddy-constant-48\n",
      "9\n",
      "Blow up experiment: /scratch/pp2681/pyqg_generative/Reference-Default-scaled/models/Operator1-96/MeanVarModel/eddy-AR1-24\n",
      "9\n",
      "Blow up experiment: /scratch/pp2681/pyqg_generative/Reference-Default-scaled/models/Operator1-96/MeanVarModel/eddy-AR1-36\n",
      "8\n",
      "Blow up experiment: /scratch/pp2681/pyqg_generative/Reference-Default-scaled/models/Operator1-96/MeanVarModel/eddy-AR1-48\n",
      "6\n",
      "Blow up experiment: /scratch/pp2681/pyqg_generative/Reference-Default-scaled/models/Operator1-96/MeanVarModel/eddy-constant-12\n",
      "9\n",
      "Blow up experiment: /scratch/pp2681/pyqg_generative/Reference-Default-scaled/models/Operator1-96/MeanVarModel/eddy-constant-24\n",
      "9\n",
      "Blow up experiment: /scratch/pp2681/pyqg_generative/Reference-Default-scaled/models/Operator1-96/MeanVarModel/eddy-constant-48\n",
      "9\n",
      "Blow up experiment: /scratch/pp2681/pyqg_generative/Reference-Default-scaled/models/Operator2-96/CGANRegression/eddy-constant-36\n",
      "9\n",
      "Blow up experiment: /scratch/pp2681/pyqg_generative/Reference-Default-scaled/models/Operator2-96/CGANRegression/eddy-constant-48\n",
      "5\n"
     ]
    }
   ],
   "source": [
    "for folder in folder_iterator(return_blowup=True):\n",
    "    nfiles = len(glob.glob(os.path.join(folder, '*.nc')))\n",
    "    if nfiles < 10:\n",
    "        print('Blow up experiment:', folder)\n",
    "        print(nfiles)"
   ]
  },
  {
   "cell_type": "code",
   "execution_count": 66,
   "metadata": {},
   "outputs": [],
   "source": [
    "highres = xr.open_mfdataset('/scratch/pp2681/pyqg_generative/Reference-Default-scaled/eddy/reference_256/*.nc', combine='nested', concat_dim='run').load()\n",
    "lowres = xr.open_mfdataset('/scratch/pp2681/pyqg_generative/Reference-Default-scaled/eddy/reference_64/*.nc', combine='nested', concat_dim='run').load()"
   ]
  },
  {
   "cell_type": "code",
   "execution_count": 67,
   "metadata": {},
   "outputs": [
    {
     "name": "stdout",
     "output_type": "stream",
     "text": [
      "var =  q\n",
      "var =  u\n",
      "var =  v\n",
      "var =  psi\n"
     ]
    }
   ],
   "source": [
    "ds = coarsegrain_reference_dataset(highres, 64, 'Operator1')"
   ]
  },
  {
   "cell_type": "code",
   "execution_count": 86,
   "metadata": {},
   "outputs": [],
   "source": [
    "model = xr.open_mfdataset('/scratch/pp2681/pyqg_generative/Reference-Default-scaled/models/Operator1-64/CGANRegression/eddy-constant-0/*.nc', combine='nested', concat_dim='run')"
   ]
  },
  {
   "cell_type": "code",
   "execution_count": 122,
   "metadata": {},
   "outputs": [
    {
     "name": "stdout",
     "output_type": "stream",
     "text": [
      "CPU times: user 1min 10s, sys: 5.16 s, total: 1min 15s\n",
      "Wall time: 1min 15s\n"
     ]
    },
    {
     "data": {
      "text/plain": [
       "{'distrib_diff_q1': 0.858958848737749,\n",
       " 'distrib_diff_q2': 0.6829852218793004,\n",
       " 'distrib_diff_u1': 0.8365561707176606,\n",
       " 'distrib_diff_u2': 0.8359515205384592,\n",
       " 'distrib_diff_v1': 0.8239561245227166,\n",
       " 'distrib_diff_v2': 0.771637605692762,\n",
       " 'distrib_diff_KE1': 0.8146259291083773,\n",
       " 'distrib_diff_KE2': 0.7922537680920104,\n",
       " 'distrib_diff_Ens1': 0.4273043973838644,\n",
       " 'distrib_diff_Ens2': 0.9046362065639878,\n",
       " 'spectral_diff_KEspec1': 0.7022520926440158,\n",
       " 'spectral_diff_KEspec2': 0.7462702366351059,\n",
       " 'spectral_diff_KEflux': 0.67189171244816,\n",
       " 'spectral_diff_APEflux': 0.6747191576393875,\n",
       " 'spectral_diff_APEgenspec': 0.7034482416054892,\n",
       " 'spectral_diff_KEfrictionspec': 0.7462701065564776}"
      ]
     },
     "execution_count": 122,
     "metadata": {},
     "output_type": "execute_result"
    }
   ],
   "source": [
    "%time ppb.diagnostic_similarities(model, ds, lowres, T=128)"
   ]
  },
  {
   "cell_type": "code",
   "execution_count": 123,
   "metadata": {},
   "outputs": [
    {
     "name": "stdout",
     "output_type": "stream",
     "text": [
      "CPU times: user 4.36 s, sys: 187 ms, total: 4.55 s\n",
      "Wall time: 4.35 s\n"
     ]
    },
    {
     "data": {
      "text/plain": [
       "{'distrib_diff_q1': 0.4782988103506248,\n",
       " 'distrib_diff_q2': 0.5478571219381726,\n",
       " 'distrib_diff_u1': 0.6549958889167478,\n",
       " 'distrib_diff_u2': 0.5696289673682191,\n",
       " 'distrib_diff_v1': 0.6647169852138799,\n",
       " 'distrib_diff_v2': 0.6201911718994578,\n",
       " 'distrib_diff_KE1': 0.6833885827469166,\n",
       " 'distrib_diff_KE2': 0.5772909989774108,\n",
       " 'distrib_diff_Ens1': 0.25183050288287756,\n",
       " 'distrib_diff_Ens2': 0.615745445766283,\n",
       " 'spectral_diff_KEspec1': 0.7022520686893807,\n",
       " 'spectral_diff_KEspec2': 0.7462702061045448,\n",
       " 'spectral_diff_KEflux': 0.6718916355424516,\n",
       " 'spectral_diff_APEflux': 0.6747191837748199,\n",
       " 'spectral_diff_APEgenspec': 0.7034481553888974,\n",
       " 'spectral_diff_KEfrictionspec': 0.7462701927170194}"
      ]
     },
     "execution_count": 123,
     "metadata": {},
     "output_type": "execute_result"
    }
   ],
   "source": [
    "%time ppb.diagnostic_similarities(model, highres, lowres, T=1)"
   ]
  }
 ],
 "metadata": {
  "kernelspec": {
   "display_name": "env_07_04",
   "language": "python",
   "name": "my_env"
  },
  "language_info": {
   "codemirror_mode": {
    "name": "ipython",
    "version": 3
   },
   "file_extension": ".py",
   "mimetype": "text/x-python",
   "name": "python",
   "nbconvert_exporter": "python",
   "pygments_lexer": "ipython3",
   "version": "3.9.12"
  }
 },
 "nbformat": 4,
 "nbformat_minor": 4
}
