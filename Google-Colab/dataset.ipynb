{
 "cells": [
  {
   "cell_type": "code",
   "execution_count": 2,
   "metadata": {},
   "outputs": [
    {
     "name": "stdout",
     "output_type": "stream",
     "text": [
      "Not running on Google Colab\n"
     ]
    }
   ],
   "source": [
    "# Needed only on Google Colab\n",
    "try:\n",
    "    import google.colab\n",
    "    !pip install aiohttp requests zarr\n",
    "    print('Packages on Google Colab are installed')\n",
    "except:\n",
    "    print('Not running on Google Colab')"
   ]
  },
  {
   "cell_type": "markdown",
   "metadata": {},
   "source": []
  },
  {
   "cell_type": "code",
   "execution_count": 3,
   "metadata": {},
   "outputs": [],
   "source": [
    "import fsspec\n",
    "import xarray as xr"
   ]
  },
  {
   "cell_type": "markdown",
   "metadata": {},
   "source": [
    "# Data is located on Green cluster (NYU) and shared with Globus.\n",
    "* Every individual dataset is a `.zarr` archive [link](https://zarr.readthedocs.io/en/stable/)\n",
    "* Structure of the folders is the following:\n",
    "├── eddy\n",
    "│   ├── 48\n",
    "│   │   ├── gauss.zarr\n",
    "│   │   ├── hires-gauss.zarr\n",
    "│   │   ├── hires-sharp.zarr\n",
    "│   │   ├── lores.zarr\n",
    "│   │   └── sharp.zarr\n",
    "│   ├── 64\n",
    "│   │   ├── gauss.zarr\n",
    "│   │   ├── hires-gauss.zarr\n",
    "│   │   ├── hires-sharp.zarr\n",
    "│   │   ├── lores.zarr\n",
    "│   │   └── sharp.zarr\n",
    "│   ├── 96\n",
    "│   │   ├── gauss.zarr\n",
    "│   │   ├── hires-gauss.zarr\n",
    "│   │   ├── hires-sharp.zarr\n",
    "│   │   ├── lores.zarr\n",
    "│   │   └── sharp.zarr\n",
    "│   └── hires.zarr\n",
    "├── jet\n",
    "│   ├── 48\n",
    "│   │   ├── gauss.zarr\n",
    "│   │   ├── hires-gauss.zarr\n",
    "│   │   ├── hires-sharp.zarr\n",
    "│   │   ├── lores.zarr\n",
    "│   │   └── sharp.zarr\n",
    "│   ├── 64\n",
    "│   │   ├── gauss.zarr\n",
    "│   │   ├── hires-gauss.zarr\n",
    "│   │   ├── hires-sharp.zarr\n",
    "│   │   ├── lores.zarr\n",
    "│   │   └── sharp.zarr\n",
    "│   ├── 96\n",
    "│   │   ├── gauss.zarr\n",
    "│   │   ├── hires-gauss.zarr\n",
    "│   │   ├── hires-sharp.zarr\n",
    "│   │   ├── lores.zarr\n",
    "│   │   └── sharp.zarr\n",
    "│   └── hires.zarr\n",
    "* `eddy/jet` -- configuration of the pyqg. eddy is default\n",
    "* `hires.zarr` -- high-resolution simulation at 256x256 grid\n",
    "* `48/64/96` -- resolution of the coarse models\n",
    "* `lores.zarr` -- low-resolution simulation\n",
    "* `gauss.zarr`, `sharp.zarr` -- training datasets for prediction of subgrid forcing obtained with Gaussian or Sharp filters\n",
    "* `hires-gauss.zarr`, `hires-shapr.zarr` -- high-resolution simulation projected onto coarse grid with Gaussian or Sharp filters"
   ]
  },
  {
   "cell_type": "code",
   "execution_count": null,
   "metadata": {},
   "outputs": [],
   "source": [
    "\n",
    "\n",
    "https://g-402b19.00888.8540.data.globus.org/eddy/48/gauss.zarr/lev/0"
   ]
  }
 ],
 "metadata": {
  "kernelspec": {
   "display_name": "env_07_04",
   "language": "python",
   "name": "my_env"
  },
  "language_info": {
   "codemirror_mode": {
    "name": "ipython",
    "version": 3
   },
   "file_extension": ".py",
   "mimetype": "text/x-python",
   "name": "python",
   "nbconvert_exporter": "python",
   "pygments_lexer": "ipython3",
   "version": "3.9.12"
  }
 },
 "nbformat": 4,
 "nbformat_minor": 4
}
