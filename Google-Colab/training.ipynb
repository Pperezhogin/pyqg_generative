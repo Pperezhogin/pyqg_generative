{
 "cells": [
  {
   "cell_type": "code",
   "execution_count": 5,
   "metadata": {},
   "outputs": [
    {
     "name": "stdout",
     "output_type": "stream",
     "text": [
      "\n",
      "------------- Not running on Google Colab --------------\n"
     ]
    }
   ],
   "source": [
    "# Needed only on Google Colab\n",
    "try:\n",
    "    import google.colab\n",
    "    !pip install aiohttp requests zarr pyfftw gcm_filters pyqg\n",
    "    !pip install git+https://github.com/m2lines/pyqg_generative.git\n",
    "    print('\\n------------- Packages on Google Colab are installed ------------')\n",
    "except:\n",
    "    print('\\n------------- Not running on Google Colab --------------')"
   ]
  },
  {
   "cell_type": "code",
   "execution_count": 6,
   "metadata": {},
   "outputs": [],
   "source": [
    "import fsspec\n",
    "import xarray as xr\n",
    "import matplotlib.pyplot as plt"
   ]
  },
  {
   "cell_type": "code",
   "execution_count": 7,
   "metadata": {},
   "outputs": [],
   "source": [
    "def open_zarr(folder='eddy/hires'):\n",
    "    base_url = 'https://g-402b19.00888.8540.data.globus.org'\n",
    "    mapper = fsspec.get_mapper(f'{base_url}/{folder}.zarr')\n",
    "    return xr.open_zarr(mapper, consolidated=True)\n"
   ]
  },
  {
   "cell_type": "code",
   "execution_count": 22,
   "metadata": {},
   "outputs": [],
   "source": [
    "if True:\n",
    "    # Try training on subset of data\n",
    "    train_size = 5\n",
    "    test_size = 2\n",
    "else:\n",
    "    # Full dataset\n",
    "    train_size=250\n",
    "    test_size=25"
   ]
  },
  {
   "cell_type": "code",
   "execution_count": 23,
   "metadata": {},
   "outputs": [],
   "source": [
    "ds = open_zarr('eddy/48/sharp')\n",
    "train = ds.isel(run=slice(0,train_size))\n",
    "test = ds.isel(run=slice(train_size,train_size+test_size))"
   ]
  },
  {
   "cell_type": "markdown",
   "metadata": {},
   "source": [
    "# Training of the GAN model and saving to 'GAN' folder"
   ]
  },
  {
   "cell_type": "code",
   "execution_count": 27,
   "metadata": {},
   "outputs": [],
   "source": [
    "from pyqg_generative.models.cgan_regression import CGANRegression\n",
    "gan = CGANRegression(nx=48, folder='GAN')"
   ]
  },
  {
   "cell_type": "code",
   "execution_count": 28,
   "metadata": {},
   "outputs": [
    {
     "name": "stdout",
     "output_type": "stream",
     "text": [
      "Training starts on device cpu, number of samples 430\n"
     ]
    }
   ],
   "source": [
    "gan.fit(train, test)"
   ]
  }
 ],
 "metadata": {
  "kernelspec": {
   "display_name": "env_07_04",
   "language": "python",
   "name": "my_env"
  },
  "language_info": {
   "codemirror_mode": {
    "name": "ipython",
    "version": 3
   },
   "file_extension": ".py",
   "mimetype": "text/x-python",
   "name": "python",
   "nbconvert_exporter": "python",
   "pygments_lexer": "ipython3",
   "version": "3.9.12"
  }
 },
 "nbformat": 4,
 "nbformat_minor": 4
}
