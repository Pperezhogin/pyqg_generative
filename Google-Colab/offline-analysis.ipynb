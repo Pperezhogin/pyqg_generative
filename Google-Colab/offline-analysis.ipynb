{
  "cells": [
    {
      "cell_type": "markdown",
      "metadata": {
        "colab_type": "text",
        "id": "view-in-github"
      },
      "source": [
        "<a href=\"https://colab.research.google.com/github/Pperezhogin/pyqg_generative/blob/master/Google-Colab/training.ipynb\" target=\"_parent\"><img src=\"https://colab.research.google.com/assets/colab-badge.svg\" alt=\"Open In Colab\"/></a>"
      ]
    },
    {
      "cell_type": "code",
      "execution_count": 1,
      "metadata": {
        "colab": {
          "base_uri": "https://localhost:8080/"
        },
        "id": "XZZ-RYk4V3z3",
        "outputId": "e1c8dcbd-a388-41db-9a71-4ae85764f0bc"
      },
      "outputs": [
        {
          "name": "stdout",
          "output_type": "stream",
          "text": [
            "\n",
            "------------- Not running on Google Colab --------------\n"
          ]
        }
      ],
      "source": [
        "# Needed only on Google Colab\n",
        "try:\n",
        "    import google.colab\n",
        "    !pip install aiohttp requests zarr pyfftw gcm_filters pyqg\n",
        "    !pip install git+https://github.com/m2lines/pyqg_generative.git\n",
        "    print('\\n------------- Packages on Google Colab are installed ------------')\n",
        "except:\n",
        "    print('\\n------------- Not running on Google Colab --------------')"
      ]
    },
    {
      "cell_type": "code",
      "execution_count": 2,
      "metadata": {
        "id": "XV9DZbcXV3z5"
      },
      "outputs": [],
      "source": [
        "import fsspec\n",
        "import xarray as xr\n",
        "import matplotlib.pyplot as plt"
      ]
    },
    {
      "cell_type": "code",
      "execution_count": 3,
      "metadata": {
        "id": "DdMWPc6mV3z5"
      },
      "outputs": [],
      "source": [
        "def open_zarr(folder):\n",
        "    for url, label in zip(['https://g-402b19.00888.8540.data.globus.org', 'https://g-771f59.00888.8540.data.globus.org'], ['archive', 'scratch']):\n",
        "      try:\n",
        "        mapper = fsspec.get_mapper(f'{url}/{folder}.zarr')\n",
        "        return xr.open_zarr(mapper, consolidated=True)\n",
        "      except:\n",
        "        print(f'{folder} on {label} failed')"
      ]
    },
    {
      "cell_type": "code",
      "execution_count": 10,
      "metadata": {},
      "outputs": [],
      "source": [
        "import json\n",
        "def read_model(folder):\n",
        "  with open(f'{folder}/model_args.json') as file:\n",
        "    model_args = json.load(file)\n",
        "    return eval(model_args.pop('model'))(folder=folder, **model_args)"
      ]
    },
    {
      "cell_type": "code",
      "execution_count": 11,
      "metadata": {
        "id": "2FCJwGS3V3z6"
      },
      "outputs": [],
      "source": [
        "ds = open_zarr('eddy/48/sharp')"
      ]
    },
    {
      "cell_type": "code",
      "execution_count": 12,
      "metadata": {
        "id": "usC5JxZBhf3r"
      },
      "outputs": [],
      "source": [
        "test = ds.isel(run=slice(250,252), time=slice(-2,None)).load()"
      ]
    },
    {
      "cell_type": "markdown",
      "metadata": {},
      "source": [
        "# Open pretrained models"
      ]
    },
    {
      "cell_type": "code",
      "execution_count": 13,
      "metadata": {},
      "outputs": [],
      "source": [
        "from pyqg_generative.models.cgan_regression import CGANRegression\n",
        "from pyqg_generative.models.cvae_regression import CVAERegression\n",
        "from pyqg_generative.models.mean_var_model import MeanVarModel"
      ]
    },
    {
      "cell_type": "code",
      "execution_count": 15,
      "metadata": {
        "id": "IwI28FvQY3wf"
      },
      "outputs": [
        {
          "name": "stdout",
          "output_type": "stream",
          "text": [
            "reading CGANRegression G, D from GAN\n",
            "reading CVAERegression from VAE\n",
            "reading MeanVarModel mean from GZ\n",
            "reading MeanVarModel var from GZ\n"
          ]
        }
      ],
      "source": [
        "gan = read_model('GAN')\n",
        "vae = read_model('VAE')\n",
        "gz = read_model('GZ')"
      ]
    },
    {
      "cell_type": "code",
      "execution_count": 18,
      "metadata": {},
      "outputs": [
        {
          "name": "stderr",
          "output_type": "stream",
          "text": [
            "/home/pp2681/pyqg_generative/pyqg_generative/tools/spectral_tools.py:95: RuntimeWarning: Mean of empty slice.\n",
            "  af2 = af2.mean(axis=(0,1))\n",
            "/ext3/miniconda3/lib/python3.9/site-packages/numpy/core/_methods.py:181: RuntimeWarning: invalid value encountered in true_divide\n",
            "  ret = um.true_divide(\n",
            "/home/pp2681/pyqg_generative/pyqg_generative/tools/spectral_tools.py:95: RuntimeWarning: Mean of empty slice.\n",
            "  af2 = af2.mean(axis=(0,1))\n",
            "/ext3/miniconda3/lib/python3.9/site-packages/numpy/core/_methods.py:181: RuntimeWarning: invalid value encountered in true_divide\n",
            "  ret = um.true_divide(\n",
            "/home/pp2681/pyqg_generative/pyqg_generative/tools/spectral_tools.py:95: RuntimeWarning: Mean of empty slice.\n",
            "  af2 = af2.mean(axis=(0,1))\n",
            "/ext3/miniconda3/lib/python3.9/site-packages/numpy/core/_methods.py:181: RuntimeWarning: invalid value encountered in true_divide\n",
            "  ret = um.true_divide(\n",
            "/home/pp2681/pyqg_generative/pyqg_generative/tools/spectral_tools.py:95: RuntimeWarning: Mean of empty slice.\n",
            "  af2 = af2.mean(axis=(0,1))\n",
            "/ext3/miniconda3/lib/python3.9/site-packages/numpy/core/_methods.py:181: RuntimeWarning: invalid value encountered in true_divide\n",
            "  ret = um.true_divide(\n",
            "/home/pp2681/pyqg_generative/pyqg_generative/tools/spectral_tools.py:95: RuntimeWarning: Mean of empty slice.\n",
            "  af2 = af2.mean(axis=(0,1))\n",
            "/ext3/miniconda3/lib/python3.9/site-packages/numpy/core/_methods.py:181: RuntimeWarning: invalid value encountered in true_divide\n",
            "  ret = um.true_divide(\n",
            "/home/pp2681/pyqg_generative/pyqg_generative/tools/spectral_tools.py:95: RuntimeWarning: Mean of empty slice.\n",
            "  af2 = af2.mean(axis=(0,1))\n",
            "/ext3/miniconda3/lib/python3.9/site-packages/numpy/core/_methods.py:181: RuntimeWarning: invalid value encountered in true_divide\n",
            "  ret = um.true_divide(\n",
            "/home/pp2681/pyqg_generative/pyqg_generative/tools/computational_tools.py:14: RuntimeWarning: Mean of empty slice.\n",
            "  mean = x.mean()\n",
            "/ext3/miniconda3/lib/python3.9/site-packages/numpy/core/_methods.py:189: RuntimeWarning: invalid value encountered in true_divide\n",
            "  ret = ret.dtype.type(ret / rcount)\n",
            "/ext3/miniconda3/lib/python3.9/site-packages/numpy/core/_methods.py:264: RuntimeWarning: Degrees of freedom <= 0 for slice\n",
            "  ret = _var(a, axis=axis, dtype=dtype, out=out, ddof=ddof,\n",
            "/ext3/miniconda3/lib/python3.9/site-packages/numpy/core/_methods.py:222: RuntimeWarning: invalid value encountered in true_divide\n",
            "  arrmean = um.true_divide(arrmean, div, out=arrmean, casting='unsafe',\n",
            "/ext3/miniconda3/lib/python3.9/site-packages/numpy/core/_methods.py:256: RuntimeWarning: invalid value encountered in true_divide\n",
            "  ret = ret.dtype.type(ret / rcount)\n"
          ]
        },
        {
          "ename": "ValueError",
          "evalue": "supplied range of [nan, nan] is not finite",
          "output_type": "error",
          "traceback": [
            "\u001b[0;31m---------------------------------------------------------------------------\u001b[0m",
            "\u001b[0;31mValueError\u001b[0m                                Traceback (most recent call last)",
            "\u001b[1;32m/home/pp2681/pyqg_generative/Google-Colab/offline-analysis.ipynb Cell 11\u001b[0m in \u001b[0;36m<cell line: 1>\u001b[0;34m()\u001b[0m\n\u001b[0;32m----> <a href='vscode-notebook-cell://ssh-remote%2Bgreene/home/pp2681/pyqg_generative/Google-Colab/offline-analysis.ipynb#X13sdnNjb2RlLXJlbW90ZQ%3D%3D?line=0'>1</a>\u001b[0m gan_offline \u001b[39m=\u001b[39m gan\u001b[39m.\u001b[39;49mtest_offline(test, ensemble_size\u001b[39m=\u001b[39;49m\u001b[39m10\u001b[39;49m)\n",
            "File \u001b[0;32m~/pyqg_generative/pyqg_generative/models/parameterization.py:135\u001b[0m, in \u001b[0;36mParameterization.test_offline\u001b[0;34m(self, ds, ensemble_size)\u001b[0m\n\u001b[1;32m    133\u001b[0m \u001b[39mfor\u001b[39;00m suffix \u001b[39min\u001b[39;00m [\u001b[39m'\u001b[39m\u001b[39m'\u001b[39m, \u001b[39m'\u001b[39m\u001b[39m_gen\u001b[39m\u001b[39m'\u001b[39m, \u001b[39m'\u001b[39m\u001b[39m_mean\u001b[39m\u001b[39m'\u001b[39m]:\n\u001b[1;32m    134\u001b[0m     array \u001b[39m=\u001b[39m preds[target\u001b[39m+\u001b[39msuffix]\u001b[39m.\u001b[39misel(time\u001b[39m=\u001b[39mtime, lev\u001b[39m=\u001b[39mlev)\u001b[39m.\u001b[39mvalues\u001b[39m.\u001b[39mravel()\n\u001b[0;32m--> 135\u001b[0m     points, density \u001b[39m=\u001b[39m PDF_histogram(array, xmin \u001b[39m=\u001b[39;49m xmin, xmax\u001b[39m=\u001b[39;49mxmax, Nbins\u001b[39m=\u001b[39;49mNbins)\n\u001b[1;32m    136\u001b[0m     \u001b[39mif\u001b[39;00m coords \u001b[39mis\u001b[39;00m \u001b[39mNone\u001b[39;00m:\n\u001b[1;32m    137\u001b[0m         coords\u001b[39m=\u001b[39m[coord(points, \u001b[39m'\u001b[39m\u001b[39m$dq/dt, s^\u001b[39m\u001b[39m{\u001b[39m\u001b[39m-2}$\u001b[39m\u001b[39m'\u001b[39m)]\n",
            "File \u001b[0;32m~/pyqg_generative/pyqg_generative/tools/computational_tools.py:24\u001b[0m, in \u001b[0;36mPDF_histogram\u001b[0;34m(x, xmin, xmax, Nbins)\u001b[0m\n\u001b[1;32m     20\u001b[0m     xmax \u001b[39m=\u001b[39m mean\u001b[39m+\u001b[39m\u001b[39m4\u001b[39m\u001b[39m*\u001b[39msigma\n\u001b[1;32m     22\u001b[0m bandwidth \u001b[39m=\u001b[39m (xmax \u001b[39m-\u001b[39m xmin) \u001b[39m/\u001b[39m Nbins\n\u001b[0;32m---> 24\u001b[0m hist, bin_edges \u001b[39m=\u001b[39m np\u001b[39m.\u001b[39;49mhistogram(x, \u001b[39mrange\u001b[39;49m\u001b[39m=\u001b[39;49m(xmin,xmax), bins \u001b[39m=\u001b[39;49m Nbins)\n\u001b[1;32m     26\u001b[0m \u001b[39m# hist / N is probability to go into bin\u001b[39;00m\n\u001b[1;32m     27\u001b[0m \u001b[39m# probability / bandwidth = probability density\u001b[39;00m\n\u001b[1;32m     28\u001b[0m density \u001b[39m=\u001b[39m hist \u001b[39m/\u001b[39m N \u001b[39m/\u001b[39m bandwidth\n",
            "File \u001b[0;32m<__array_function__ internals>:180\u001b[0m, in \u001b[0;36mhistogram\u001b[0;34m(*args, **kwargs)\u001b[0m\n",
            "File \u001b[0;32m/ext3/miniconda3/lib/python3.9/site-packages/numpy/lib/histograms.py:793\u001b[0m, in \u001b[0;36mhistogram\u001b[0;34m(a, bins, range, normed, weights, density)\u001b[0m\n\u001b[1;32m    681\u001b[0m \u001b[39mr\u001b[39m\u001b[39m\"\"\"\u001b[39;00m\n\u001b[1;32m    682\u001b[0m \u001b[39mCompute the histogram of a dataset.\u001b[39;00m\n\u001b[1;32m    683\u001b[0m \n\u001b[0;32m   (...)\u001b[0m\n\u001b[1;32m    789\u001b[0m \n\u001b[1;32m    790\u001b[0m \u001b[39m\"\"\"\u001b[39;00m\n\u001b[1;32m    791\u001b[0m a, weights \u001b[39m=\u001b[39m _ravel_and_check_weights(a, weights)\n\u001b[0;32m--> 793\u001b[0m bin_edges, uniform_bins \u001b[39m=\u001b[39m _get_bin_edges(a, bins, \u001b[39mrange\u001b[39;49m, weights)\n\u001b[1;32m    795\u001b[0m \u001b[39m# Histogram is an integer or a float array depending on the weights.\u001b[39;00m\n\u001b[1;32m    796\u001b[0m \u001b[39mif\u001b[39;00m weights \u001b[39mis\u001b[39;00m \u001b[39mNone\u001b[39;00m:\n",
            "File \u001b[0;32m/ext3/miniconda3/lib/python3.9/site-packages/numpy/lib/histograms.py:426\u001b[0m, in \u001b[0;36m_get_bin_edges\u001b[0;34m(a, bins, range, weights)\u001b[0m\n\u001b[1;32m    423\u001b[0m     \u001b[39mif\u001b[39;00m n_equal_bins \u001b[39m<\u001b[39m \u001b[39m1\u001b[39m:\n\u001b[1;32m    424\u001b[0m         \u001b[39mraise\u001b[39;00m \u001b[39mValueError\u001b[39;00m(\u001b[39m'\u001b[39m\u001b[39m`bins` must be positive, when an integer\u001b[39m\u001b[39m'\u001b[39m)\n\u001b[0;32m--> 426\u001b[0m     first_edge, last_edge \u001b[39m=\u001b[39m _get_outer_edges(a, \u001b[39mrange\u001b[39;49m)\n\u001b[1;32m    428\u001b[0m \u001b[39melif\u001b[39;00m np\u001b[39m.\u001b[39mndim(bins) \u001b[39m==\u001b[39m \u001b[39m1\u001b[39m:\n\u001b[1;32m    429\u001b[0m     bin_edges \u001b[39m=\u001b[39m np\u001b[39m.\u001b[39masarray(bins)\n",
            "File \u001b[0;32m/ext3/miniconda3/lib/python3.9/site-packages/numpy/lib/histograms.py:315\u001b[0m, in \u001b[0;36m_get_outer_edges\u001b[0;34m(a, range)\u001b[0m\n\u001b[1;32m    312\u001b[0m         \u001b[39mraise\u001b[39;00m \u001b[39mValueError\u001b[39;00m(\n\u001b[1;32m    313\u001b[0m             \u001b[39m'\u001b[39m\u001b[39mmax must be larger than min in range parameter.\u001b[39m\u001b[39m'\u001b[39m)\n\u001b[1;32m    314\u001b[0m     \u001b[39mif\u001b[39;00m \u001b[39mnot\u001b[39;00m (np\u001b[39m.\u001b[39misfinite(first_edge) \u001b[39mand\u001b[39;00m np\u001b[39m.\u001b[39misfinite(last_edge)):\n\u001b[0;32m--> 315\u001b[0m         \u001b[39mraise\u001b[39;00m \u001b[39mValueError\u001b[39;00m(\n\u001b[1;32m    316\u001b[0m             \u001b[39m\"\u001b[39m\u001b[39msupplied range of [\u001b[39m\u001b[39m{}\u001b[39;00m\u001b[39m, \u001b[39m\u001b[39m{}\u001b[39;00m\u001b[39m] is not finite\u001b[39m\u001b[39m\"\u001b[39m\u001b[39m.\u001b[39mformat(first_edge, last_edge))\n\u001b[1;32m    317\u001b[0m \u001b[39melif\u001b[39;00m a\u001b[39m.\u001b[39msize \u001b[39m==\u001b[39m \u001b[39m0\u001b[39m:\n\u001b[1;32m    318\u001b[0m     \u001b[39m# handle empty arrays. Can't determine range, so use 0-1.\u001b[39;00m\n\u001b[1;32m    319\u001b[0m     first_edge, last_edge \u001b[39m=\u001b[39m \u001b[39m0\u001b[39m, \u001b[39m1\u001b[39m\n",
            "\u001b[0;31mValueError\u001b[0m: supplied range of [nan, nan] is not finite"
          ]
        }
      ],
      "source": [
        "gan_offline = gan.test_offline(test, ensemble_size=10)"
      ]
    },
    {
      "cell_type": "code",
      "execution_count": null,
      "metadata": {},
      "outputs": [],
      "source": []
    }
  ],
  "metadata": {
    "accelerator": "GPU",
    "colab": {
      "include_colab_link": true,
      "provenance": []
    },
    "gpuClass": "standard",
    "kernelspec": {
      "display_name": "env_07_04",
      "language": "python",
      "name": "my_env"
    },
    "language_info": {
      "codemirror_mode": {
        "name": "ipython",
        "version": 3
      },
      "file_extension": ".py",
      "mimetype": "text/x-python",
      "name": "python",
      "nbconvert_exporter": "python",
      "pygments_lexer": "ipython3",
      "version": "3.9.12"
    }
  },
  "nbformat": 4,
  "nbformat_minor": 0
}
